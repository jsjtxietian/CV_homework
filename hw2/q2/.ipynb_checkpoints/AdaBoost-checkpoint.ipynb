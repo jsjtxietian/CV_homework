{
 "cells": [
  {
   "cell_type": "code",
   "execution_count": 2,
   "metadata": {},
   "outputs": [],
   "source": [
    "import numpy as np \n",
    "import matplotlib.pyplot as plt\n",
    "\n",
    "samples = [[80, 144, +1], [93, 232, +1], [136, 275, -1], [147, 131, -1], [159, 69, +1],\\\n",
    "           [214, 31, +1], [214, 152, -1], [257, 83, +1], [307, 62, -1], [307, 231, -1]]\n",
    "\n",
    "%matplotlib inline"
   ]
  },
  {
   "cell_type": "code",
   "execution_count": 3,
   "metadata": {},
   "outputs": [],
   "source": [
    "def loadSimpData(): \n",
    "    classLabels = [1,1,-1,-1,1,1,-1,1,-1,-1]\n",
    "    datMat = np.matrix([[80, 144], [93, 232], [136, 275], [147, 131], [159, 69],\\\n",
    "           [214, 31], [214, 152], [257, 83 ], [307, 62], [307, 231]])\n",
    "    return datMat, classLabels\n",
    "\n",
    "datMat, classLabels = loadSimpData() "
   ]
  },
  {
   "cell_type": "code",
   "execution_count": 4,
   "metadata": {},
   "outputs": [],
   "source": [
    "def showScatter(matrix, labels,line): \n",
    "    plt.figure(figsize=(8,6)) \n",
    "    x1 = []; y1 = []; x2 = []; y2 = [] \n",
    "    for i in range(len(labels)): \n",
    "        if labels[i] == 1.0: \n",
    "            x1.append(matrix[i, 0]) \n",
    "            y1.append(matrix[i, 1]) \n",
    "        else: \n",
    "            x2.append(matrix[i, 0]) \n",
    "            y2.append(matrix[i, 1]) \n",
    "    plt.scatter(x1, y1, marker='o', color='green', alpha=0.7, label='1.0') \n",
    "    plt.scatter(x2, y2, marker='^', color='red', alpha=0.7, label='-1.0')\n",
    "    \n",
    "    if len(line) > 0:\n",
    "        if line['dim'] == 0:\n",
    "            plt.axvline(line['thresh'])\n",
    "        else:\n",
    "            plt.axhline(line['thresh'])\n",
    "    \n",
    "    plt.title('dataset') \n",
    "    plt.ylabel('variable Y') \n",
    "    plt.xlabel('Variable X') \n",
    "    plt.legend(loc='upper right') \n",
    "    plt.show()"
   ]
  },
  {
   "cell_type": "code",
   "execution_count": 5,
   "metadata": {},
   "outputs": [],
   "source": [
    "def adaClassify(datToClass, classifierArr): \n",
    "    dataMatrix = np.mat(datToClass) \n",
    "    m = np.shape(dataMatrix)[0] \n",
    "    aggClassEst = np.mat(np.zeros((m, 1))) # 为了满足输出期望，先用0列向量初始化输出结果 \n",
    "    \n",
    "    #print(\"aggClassEst:\")\n",
    "    #print(aggClassEst)\n",
    "    #print(\"m:\")\n",
    "    #print(m)\n",
    "    \n",
    "    for i in range(len(classifierArr)): \n",
    "        classEst = stumpClassify(dataMatrix, classifierArr[i]['dim'], classifierArr[i]['thresh'], classifierArr[i]['ineq']) # 得到一个弱分类器分类结果\n",
    "        \n",
    "        #print(\"classEst:\")\n",
    "        #print(classEst)\n",
    "        \n",
    "        \n",
    "        aggClassEst += classifierArr[i]['alpha'] * classEst # 对应算法流程的步骤7，将弱分类器结果加权求和 \n",
    "        \n",
    "        #print(\"aggClassEst:\")\n",
    "        #print(aggClassEst)\n",
    "        \n",
    "    return np.sign(aggClassEst) #由于是二类问题，所以可以根据加权求和结果的正负情况得到期望的分类输出 "
   ]
  },
  {
   "cell_type": "code",
   "execution_count": 6,
   "metadata": {},
   "outputs": [],
   "source": [
    "# dataMatirx：要分类的数据 \n",
    "# dimen：维度 \n",
    "# threshVal：阈值 \n",
    "# threshIneq：有两种，‘lt’=lower than，‘gt’=greater than \n",
    "def stumpClassify(dataMatrix, dimen, threshVal, threshIneq): \n",
    "    retArray = np.ones((np.shape(dataMatrix)[0], 1))\n",
    "    if threshIneq == 'gt': \n",
    "        retArray[dataMatrix[:, dimen] <= threshVal] = 1.0 # 如果希望大于阈值的是1，则小于阈值的部分置为-1 \n",
    "    else: \n",
    "        retArray[dataMatrix[:, dimen] > threshVal] = -1.0 \n",
    "    #print(dataMatrix)\n",
    "    #print(retArray)\n",
    "    #print('end')\n",
    "    return retArray \n"
   ]
  },
  {
   "cell_type": "code",
   "execution_count": 7,
   "metadata": {},
   "outputs": [],
   "source": [
    "def adaBoostTrainDS(dataArr, classLabels, numIt=40): \n",
    "    weakClassArr = [] \n",
    "    m = np.shape(dataArr)[0] \n",
    "    D = np.mat(np.ones((m,1)) / m) # 初始化权重向量，给每个样本相同的权重，[[1/m],[1/m],[1/m],...] \n",
    "    aggClassEst = np.mat(np.zeros((m,1))) # 初始化每个样本的预估值为0 \n",
    "    for i in range(numIt): # 遍历迭代次数 \n",
    "        bestStump, error, classEst = buildStump(dataArr, classLabels, D) # 构建一棵单层决策树，返回最好的树，错误率和分类结果\n",
    "        \n",
    "        showScatter(datMat,classLabels,bestStump)\n",
    "        \n",
    "        alpha = float(0.5 * np.log((1.0 - error)/error)) #计算分类器权重 \n",
    "        bestStump['alpha'] = alpha #将alpha值也加入最佳树字典 \n",
    "        weakClassArr.append(bestStump) # 将弱分类器加入数组 \n",
    "        # print(\"classEst:\", classEst.T) \n",
    "        # 更新权重向量D \n",
    "        expon = np.multiply(-1*alpha*np.mat(classLabels).T, classEst) \n",
    "        D = np.multiply(D, np.exp(expon)) \n",
    "        D = D / D.sum() # 累加错误率，直到错误率为0或者到达迭代次数 \n",
    "        aggClassEst += alpha * classEst \n",
    "        #print(\"aggClassEst:\", aggClassEst.T) \n",
    "        aggErrors = np.multiply(np.sign(aggClassEst) != np.mat(classLabels).T, np.ones((m, 1))) \n",
    "        errorRate = aggErrors.sum() / m \n",
    "        #print(\"total error:\", errorRate, \"\\n\") \n",
    "        if errorRate == 0.0: \n",
    "            break; \n",
    "    return weakClassArr \n"
   ]
  },
  {
   "cell_type": "code",
   "execution_count": 8,
   "metadata": {},
   "outputs": [],
   "source": [
    "# dataArr: 数据集 \n",
    "# classLabels：标签 \n",
    "# D：由每个样本的权重构成的矩阵 \n",
    "def buildStump(dataArr, classLabels, D): \n",
    "    dataMatrix = np.mat(dataArr) \n",
    "    labelMat = np.mat(classLabels).T # 标签转成列向量 \n",
    "    m, n = np.shape(dataMatrix) #m为数据个数，n为每条数据含有的样本数（也就是特征） \n",
    "    numSteps = 10.0 \n",
    "    bestStump = {} \n",
    "    bestClasEst = np.mat(np.zeros((m, 1))) # 初始化最好的分类器为[[0],[0],[0],...] \n",
    "    minError = np.inf #最小错误率，不停更新最小错误率 \n",
    "    for i in range(n): #遍历特征 \n",
    "        rangeMin = dataMatrix[:, i].min(); # 找这一列特征的最小值 \n",
    "        rangeMax = dataMatrix[:, i].max(); # 找这一列特征的最大值 \n",
    "        stepSize = (rangeMax - rangeMin) / numSteps #每次移动的步长 \n",
    "        for j in range(-1, int(numSteps) + 1): #对每个步长 \n",
    "            for inequal in ['lt', 'gt']: # 每个条件，大于阈值是1还是小于阈值是1 \n",
    "                threshVal = (rangeMin + float(j) * stepSize) # 阈值设为最小值+第j个步长 \n",
    "                #print('i=%d, threshVal=%f, inequal=%s'%(i,threshVal,inequal)) \n",
    "                predictedVals = stumpClassify(dataMatrix, i , threshVal, inequal) # 将dataMatrix的第i个特征inequal阈值的置为1，否则为-1 \n",
    "                #print(predictedVals) \n",
    "                errArr = np.mat(np.ones((m, 1))) \n",
    "                errArr[predictedVals == labelMat] = 0 # 预测对的置0 \n",
    "                #print(errArr) \n",
    "                weightedError = D.T * errArr \n",
    "                #print(\"split: dim %d, threshold %.2f, threshold inequal: %s, the weighted error is %.3f\" % (i, threshVal, inequal, weightedError)) \n",
    "                if weightedError < minError: \n",
    "                    minError = weightedError \n",
    "                    bestClasEst = predictedVals.copy() \n",
    "                    bestStump['dim'] = i \n",
    "                    bestStump['thresh'] = threshVal \n",
    "                    bestStump['ineq'] = inequal \n",
    "    return bestStump, minError, bestClasEst\n"
   ]
  },
  {
   "cell_type": "code",
   "execution_count": 10,
   "metadata": {},
   "outputs": [
    {
     "data": {
      "image/png": "[encoded data removed]",
      "text/plain": [
       "<Figure size 576x432 with 1 Axes>"
      ]
     },
     "metadata": {},
     "output_type": "display_data"
    },
    {
     "data": {
      "image/png": "[encoded data removed]",
      "text/plain": [
       "<Figure size 576x432 with 1 Axes>"
      ]
     },
     "metadata": {},
     "output_type": "display_data"
    },
    {
     "data": {
      "image/png": "[encoded data removed]",
      "text/plain": [
       "<Figure size 576x432 with 1 Axes>"
      ]
     },
     "metadata": {},
     "output_type": "display_data"
    },
    {
     "data": {
      "image/png": "[encoded data removed]",
      "text/plain": [
       "<Figure size 576x432 with 1 Axes>"
      ]
     },
     "metadata": {},
     "output_type": "display_data"
    },
    {
     "name": "stdout",
     "output_type": "stream",
     "text": [
      "predict : \n",
      "[[ 1.]\n",
      " [ 1.]\n",
      " [-1.]\n",
      " [-1.]\n",
      " [ 1.]\n",
      " [ 1.]\n",
      " [-1.]\n",
      " [ 1.]\n",
      " [-1.]\n",
      " [-1.]]\n",
      "classLabels :\n",
      "[1, 1, -1, -1, 1, 1, -1, 1, -1, -1]\n",
      "weak classifiers:\n",
      "{'dim': 0, 'thresh': 102.7, 'ineq': 'lt', 'alpha': 0.4236489301936017}\n",
      "{'dim': 0, 'thresh': 261.6, 'ineq': 'lt', 'alpha': 0.6496414920651304}\n",
      "{'dim': 1, 'thresh': 104.19999999999999, 'ineq': 'lt', 'alpha': 0.9229133452491652}\n"
     ]
    }
   ],
   "source": [
    "showScatter(datMat, classLabels,{})\n",
    "classifierArray = adaBoostTrainDS(datMat,classLabels)\n",
    "result = adaClassify(datMat,classifierArray)\n",
    "print('predict : ');\n",
    "print(result)\n",
    "print('classLabels :')\n",
    "print(classLabels)\n",
    "print('weak classifiers:')\n",
    "for signle in classifierArray:\n",
    "    print(signle)"
   ]
  }
 ],
 "metadata": {
  "kernelspec": {
   "display_name": "Python 3",
   "language": "python",
   "name": "python3"
  },
  "language_info": {
   "codemirror_mode": {
    "name": "ipython",
    "version": 3
   },
   "file_extension": ".py",
   "mimetype": "text/x-python",
   "name": "python",
   "nbconvert_exporter": "python",
   "pygments_lexer": "ipython3",
   "version": "3.6.5"
  }
 },
 "nbformat": 4,
 "nbformat_minor": 2
}
