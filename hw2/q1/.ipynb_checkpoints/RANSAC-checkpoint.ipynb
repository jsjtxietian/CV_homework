{
 "cells": [
  {
   "cell_type": "code",
   "execution_count": 444,
   "metadata": {},
   "outputs": [],
   "source": [
    "import matplotlib.pyplot as plt\n",
    "import random\n",
    "import numpy as np\n",
    "import scipy as sp\n",
    "import copy\n",
    "from scipy.optimize import leastsq \n",
    "\n",
    "samples = [[-2, 0], [0, 0.9], [2, 2.0], [3, 6.5], [4, 2.9], [5, 8.8],\\\n",
    "           [6, 3.95], [8, 5.03], [10, 5.97], [12, 7.1], [13, 1.2], [14, 8.2], [16, 8.5],[18, 10.1]]"
   ]
  },
  {
   "cell_type": "code",
   "execution_count": 445,
   "metadata": {},
   "outputs": [],
   "source": [
    "%matplotlib inline"
   ]
  },
  {
   "cell_type": "markdown",
   "metadata": {},
   "source": [
    "Ransac function\n",
    "* Given:\n",
    "    * data – a set of observed data points\n",
    "    * num – minimum number of data points required to fit the model\n",
    "    * iterTimes – maximum number of iterations allowed in the algorithm\n",
    "    * threshDist – threshold value to determine when a data point fits a model\n",
    "    * inlierRatio – number of close data points required to assert that a model fits well to data\n",
    "\n",
    "* Return:\n",
    "    * k , b  – model parameters which best fit the data (or nul if no good model is found)"
   ]
  },
  {
   "cell_type": "code",
   "execution_count": 446,
   "metadata": {
    "code_folding": []
   },
   "outputs": [],
   "source": [
    "def Ransac(data,iterTimes = 10 ,threshDist = 1 ,inlierRatio  = 0.9 , isDebug = False):\n",
    "\n",
    "    x , y = zip(*data)\n",
    "    \n",
    "    #draw origin\n",
    "    drawPlt(\"Origin\",[])\n",
    "    \n",
    "    iterations = 0\n",
    "    bestfit = None\n",
    "    dataNum = len(data)\n",
    "    bestInlierNum = 0\n",
    "    bestInlierSet = []\n",
    "    \n",
    "    while iterations < iterTimes:\n",
    "        \n",
    "        iterations += 1\n",
    "        inlierNum = 0\n",
    "        inlierSet = []\n",
    "        \n",
    "        #randomly select 2 points\n",
    "        random.shuffle(data)\n",
    "        point1 = data[0]\n",
    "        point2 = data[1]\n",
    "        \n",
    "        # Ax + By + C = 0\n",
    "        A = point2[1] - point1[1]\n",
    "        B = point1[0] - point2[0]\n",
    "        C = point2[0] * point1[1] - point1[0] * point2[1]\n",
    "        linePara = [A , B , C]\n",
    "        \n",
    "        for s in data:\n",
    "            if calcDist(linePara , s) < threshDist:\n",
    "                inlierNum += 1\n",
    "                inlierSet.append(s)\n",
    "        \n",
    "        #update largest consensus set Si\n",
    "        bestInlierNum = inlierNum if inlierNum > bestInlierNum else bestInlierNum\n",
    "        bestInlierSet = copy.deepcopy(inlierSet) if inlierNum > bestInlierNum else copy.deepcopy(inlierSet)\n",
    "        \n",
    "        if isDebug:\n",
    "            drawPlt(\"iter \" + str(iterations) , [-A/B,-C/B,threshDist,point1,point2])\n",
    "            \n",
    "        if inlierNum >= round(inlierRatio * dataNum):\n",
    "            #re‐estimate the model using all points in Si and terminate\n",
    "            k,b = calcLeastSq(inlierSet)\n",
    "            drawPlt(\"result : y = \" + str(k) + \"x + \" + str(b) , [k,b])\n",
    "            return k , b\n",
    "        else:\n",
    "            continue\n",
    "    \n",
    "    k,b = calcLeastSq(bestInlierSet)\n",
    "    drawPlt(\"result : y = \" + str(k) + \"x + \" + str(b) , [k,b])\n",
    "\n",
    "    return k,b"
   ]
  },
  {
   "cell_type": "markdown",
   "metadata": {},
   "source": [
    "calcDist function —— calc the distance between a point (x,y) and a line Ax + By + C = 0\n",
    "* Given:\n",
    "    * para —— [A,B,C]\n",
    "    * point —— [x,y]\n",
    "* Return:\n",
    "    * distance of a point (x,y) and a line Ax + By + C = 0"
   ]
  },
  {
   "cell_type": "code",
   "execution_count": 447,
   "metadata": {},
   "outputs": [],
   "source": [
    "def calcDist(para,point):\n",
    "    A,B,C = para\n",
    "    x,y = point\n",
    "    denominator = np.sqrt( A**2 + B**2)\n",
    "    numerator = np.abs(A*x + B*y + C)\n",
    "    return numerator / denominator"
   ]
  },
  {
   "cell_type": "markdown",
   "metadata": {},
   "source": [
    "calcLeatSq function —— calc the least square method of a given dataset\n",
    "* Given:\n",
    "    * data —— given data set\n",
    "* return:\n",
    "    * k,b —— line's para"
   ]
  },
  {
   "cell_type": "code",
   "execution_count": 448,
   "metadata": {},
   "outputs": [],
   "source": [
    "def fun(p,x):\n",
    "    k,b = p\n",
    "    return k*x+b\n",
    "\n",
    "def err(p,x,y):\n",
    "    return fun(p,x)-y\n",
    "\n",
    "def calcLeastSq(data):\n",
    "    x,y = zip(*data)\n",
    "    \n",
    "    x = np.array(x)\n",
    "    y = np.array(y)\n",
    "    \n",
    "    p0=data[0]\n",
    "    \n",
    "    result = leastsq(err,p0,args=(x,y))\n",
    "    k  =result[0][0]\n",
    "    b = result[0][1]\n",
    "    return k,b"
   ]
  },
  {
   "cell_type": "code",
   "execution_count": 449,
   "metadata": {},
   "outputs": [],
   "source": [
    "def drawPlt(title,*linePara):\n",
    "    x,y = zip(*samples)\n",
    "    plt.scatter(x,y)\n",
    "    \n",
    "    if len(linePara[0]) > 0:\n",
    "        if len(linePara[0]) >= 2:\n",
    "            k = linePara[0][0]\n",
    "            b = linePara[0][1]\n",
    "            m = range(-2,20)\n",
    "            plt.plot(m,[i*k+b for i in m])\n",
    "            \n",
    "            if len(linePara[0]) == 5:\n",
    "                threshDist = linePara[0][2]\n",
    "                plt.plot(m,[i*k+b + threshDist * np.sqrt(1+k**2) for i in m] , linestyle='--')        \n",
    "                plt.plot(m,[i*k+b - threshDist * np.sqrt(1+k**2) for i in m] , linestyle='--')\n",
    "                points = linePara[0][3:5]\n",
    "                p,q = zip(*points)\n",
    "                plt.scatter(p,q,color='red')\n",
    "\n",
    "    plt.title(title)\n",
    "    plt.show()"
   ]
  },
  {
   "cell_type": "code",
   "execution_count": 450,
   "metadata": {},
   "outputs": [
    {
     "data": {
      "image/png": "[encoded data removed]",
      "text/plain": [
       "<Figure size 432x288 with 1 Axes>"
      ]
     },
     "metadata": {},
     "output_type": "display_data"
    },
    {
     "data": {
      "image/png": "[encoded data removed]",
      "text/plain": [
       "<Figure size 432x288 with 1 Axes>"
      ]
     },
     "metadata": {},
     "output_type": "display_data"
    },
    {
     "data": {
      "image/png": "[encoded data removed]",
      "text/plain": [
       "<Figure size 432x288 with 1 Axes>"
      ]
     },
     "metadata": {},
     "output_type": "display_data"
    }
   ],
   "source": [
    "k,b = Ransac(samples,10,1,0.8,True)"
   ]
  }
 ],
 "metadata": {
  "kernelspec": {
   "display_name": "Python 3",
   "language": "python",
   "name": "python3"
  },
  "language_info": {
   "codemirror_mode": {
    "name": "ipython",
    "version": 3
   },
   "file_extension": ".py",
   "mimetype": "text/x-python",
   "name": "python",
   "nbconvert_exporter": "python",
   "pygments_lexer": "ipython3",
   "version": "3.6.5"
  }
 },
 "nbformat": 4,
 "nbformat_minor": 2
}
